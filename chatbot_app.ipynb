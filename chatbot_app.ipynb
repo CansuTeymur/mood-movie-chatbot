{
 "cells": [
  {
   "cell_type": "code",
   "execution_count": 1,
   "id": "d0029571-9ef8-4b34-a5ae-ef30e113aeec",
   "metadata": {
    "tags": []
   },
   "outputs": [],
   "source": [
    "from sklearn.feature_extraction.text import TfidfVectorizer\n",
    "from sklearn.naive_bayes import MultinomialNB\n",
    "from sklearn.pipeline import Pipeline\n",
    "import pandas as pd\n",
    "import random"
   ]
  },
  {
   "cell_type": "markdown",
   "id": "b90d25ab-5cae-450b-a545-17a2c2447548",
   "metadata": {},
   "source": [
    "- Here we define sample sentences (text) and their corresponding emotion (intent)."
   ]
  },
  {
   "cell_type": "code",
   "execution_count": 2,
   "id": "fbd585da-7343-478b-9fdb-2aab61a70bfc",
   "metadata": {
    "tags": []
   },
   "outputs": [],
   "source": [
    "# Dataset\n",
    "data = {\n",
    "    \"text\": [\n",
    "        \"I feel sad\", \"I am feeling down\", \"I am unhappy\", \n",
    "        \"I am very happy\", \"feeling great\", \"what a nice day\", \n",
    "        \"I want to watch a romantic movie\", \"suggest a love movie\", \"movie for me and my partner\",\n",
    "        \"I want suspense\", \"suggest an action movie\", \"I want a thrilling film\"\n",
    "    ],\n",
    "    \"intent\": [\n",
    "        \"sad\", \"sad\", \"sad\", \n",
    "        \"happy\", \"happy\", \"happy\", \n",
    "        \"romantic\", \"romantic\", \"romantic\",\n",
    "        \"excited\", \"excited\", \"excited\"\n",
    "    ]\n",
    "}"
   ]
  },
  {
   "cell_type": "code",
   "execution_count": 3,
   "id": "bacf618b-ea31-4198-b20f-0e682d0fabc0",
   "metadata": {
    "tags": []
   },
   "outputs": [],
   "source": [
    "df = pd.DataFrame(data)"
   ]
  },
  {
   "cell_type": "code",
   "execution_count": 4,
   "id": "6b94aa22-f72a-4b7c-8bb1-59febcb77165",
   "metadata": {
    "tags": []
   },
   "outputs": [
    {
     "name": "stdout",
     "output_type": "stream",
     "text": [
      "                                text    intent\n",
      "0                         I feel sad       sad\n",
      "1                  I am feeling down       sad\n",
      "2                       I am unhappy       sad\n",
      "3                    I am very happy     happy\n",
      "4                      feeling great     happy\n",
      "5                    what a nice day     happy\n",
      "6   I want to watch a romantic movie  romantic\n",
      "7               suggest a love movie  romantic\n",
      "8        movie for me and my partner  romantic\n",
      "9                    I want suspense   excited\n",
      "10           suggest an action movie   excited\n",
      "11           I want a thrilling film   excited\n"
     ]
    }
   ],
   "source": [
    "print(df)"
   ]
  },
  {
   "cell_type": "markdown",
   "id": "3a62f9e0-5f2d-4c1b-be53-4697b3de6894",
   "metadata": {},
   "source": [
    "- The model learns which words correspond to which emotions."
   ]
  },
  {
   "cell_type": "code",
   "execution_count": 5,
   "id": "d45d763f-1f73-47f4-b865-dd19acd1e618",
   "metadata": {
    "tags": []
   },
   "outputs": [],
   "source": [
    "model = Pipeline([\n",
    "    ('tfidf', TfidfVectorizer()),\n",
    "    ('nb', MultinomialNB())\n",
    "])"
   ]
  },
  {
   "cell_type": "code",
   "execution_count": 6,
   "id": "2bddb2bd-9740-460d-ac1b-a1701ddcf8cd",
   "metadata": {
    "tags": []
   },
   "outputs": [
    {
     "data": {
      "text/html": [
       "<style>#sk-container-id-1 {color: black;background-color: white;}#sk-container-id-1 pre{padding: 0;}#sk-container-id-1 div.sk-toggleable {background-color: white;}#sk-container-id-1 label.sk-toggleable__label {cursor: pointer;display: block;width: 100%;margin-bottom: 0;padding: 0.3em;box-sizing: border-box;text-align: center;}#sk-container-id-1 label.sk-toggleable__label-arrow:before {content: \"▸\";float: left;margin-right: 0.25em;color: #696969;}#sk-container-id-1 label.sk-toggleable__label-arrow:hover:before {color: black;}#sk-container-id-1 div.sk-estimator:hover label.sk-toggleable__label-arrow:before {color: black;}#sk-container-id-1 div.sk-toggleable__content {max-height: 0;max-width: 0;overflow: hidden;text-align: left;background-color: #f0f8ff;}#sk-container-id-1 div.sk-toggleable__content pre {margin: 0.2em;color: black;border-radius: 0.25em;background-color: #f0f8ff;}#sk-container-id-1 input.sk-toggleable__control:checked~div.sk-toggleable__content {max-height: 200px;max-width: 100%;overflow: auto;}#sk-container-id-1 input.sk-toggleable__control:checked~label.sk-toggleable__label-arrow:before {content: \"▾\";}#sk-container-id-1 div.sk-estimator input.sk-toggleable__control:checked~label.sk-toggleable__label {background-color: #d4ebff;}#sk-container-id-1 div.sk-label input.sk-toggleable__control:checked~label.sk-toggleable__label {background-color: #d4ebff;}#sk-container-id-1 input.sk-hidden--visually {border: 0;clip: rect(1px 1px 1px 1px);clip: rect(1px, 1px, 1px, 1px);height: 1px;margin: -1px;overflow: hidden;padding: 0;position: absolute;width: 1px;}#sk-container-id-1 div.sk-estimator {font-family: monospace;background-color: #f0f8ff;border: 1px dotted black;border-radius: 0.25em;box-sizing: border-box;margin-bottom: 0.5em;}#sk-container-id-1 div.sk-estimator:hover {background-color: #d4ebff;}#sk-container-id-1 div.sk-parallel-item::after {content: \"\";width: 100%;border-bottom: 1px solid gray;flex-grow: 1;}#sk-container-id-1 div.sk-label:hover label.sk-toggleable__label {background-color: #d4ebff;}#sk-container-id-1 div.sk-serial::before {content: \"\";position: absolute;border-left: 1px solid gray;box-sizing: border-box;top: 0;bottom: 0;left: 50%;z-index: 0;}#sk-container-id-1 div.sk-serial {display: flex;flex-direction: column;align-items: center;background-color: white;padding-right: 0.2em;padding-left: 0.2em;position: relative;}#sk-container-id-1 div.sk-item {position: relative;z-index: 1;}#sk-container-id-1 div.sk-parallel {display: flex;align-items: stretch;justify-content: center;background-color: white;position: relative;}#sk-container-id-1 div.sk-item::before, #sk-container-id-1 div.sk-parallel-item::before {content: \"\";position: absolute;border-left: 1px solid gray;box-sizing: border-box;top: 0;bottom: 0;left: 50%;z-index: -1;}#sk-container-id-1 div.sk-parallel-item {display: flex;flex-direction: column;z-index: 1;position: relative;background-color: white;}#sk-container-id-1 div.sk-parallel-item:first-child::after {align-self: flex-end;width: 50%;}#sk-container-id-1 div.sk-parallel-item:last-child::after {align-self: flex-start;width: 50%;}#sk-container-id-1 div.sk-parallel-item:only-child::after {width: 0;}#sk-container-id-1 div.sk-dashed-wrapped {border: 1px dashed gray;margin: 0 0.4em 0.5em 0.4em;box-sizing: border-box;padding-bottom: 0.4em;background-color: white;}#sk-container-id-1 div.sk-label label {font-family: monospace;font-weight: bold;display: inline-block;line-height: 1.2em;}#sk-container-id-1 div.sk-label-container {text-align: center;}#sk-container-id-1 div.sk-container {/* jupyter's `normalize.less` sets `[hidden] { display: none; }` but bootstrap.min.css set `[hidden] { display: none !important; }` so we also need the `!important` here to be able to override the default hidden behavior on the sphinx rendered scikit-learn.org. See: https://github.com/scikit-learn/scikit-learn/issues/21755 */display: inline-block !important;position: relative;}#sk-container-id-1 div.sk-text-repr-fallback {display: none;}</style><div id=\"sk-container-id-1\" class=\"sk-top-container\"><div class=\"sk-text-repr-fallback\"><pre>Pipeline(steps=[(&#x27;tfidf&#x27;, TfidfVectorizer()), (&#x27;nb&#x27;, MultinomialNB())])</pre><b>In a Jupyter environment, please rerun this cell to show the HTML representation or trust the notebook. <br />On GitHub, the HTML representation is unable to render, please try loading this page with nbviewer.org.</b></div><div class=\"sk-container\" hidden><div class=\"sk-item sk-dashed-wrapped\"><div class=\"sk-label-container\"><div class=\"sk-label sk-toggleable\"><input class=\"sk-toggleable__control sk-hidden--visually\" id=\"sk-estimator-id-1\" type=\"checkbox\" ><label for=\"sk-estimator-id-1\" class=\"sk-toggleable__label sk-toggleable__label-arrow\">Pipeline</label><div class=\"sk-toggleable__content\"><pre>Pipeline(steps=[(&#x27;tfidf&#x27;, TfidfVectorizer()), (&#x27;nb&#x27;, MultinomialNB())])</pre></div></div></div><div class=\"sk-serial\"><div class=\"sk-item\"><div class=\"sk-estimator sk-toggleable\"><input class=\"sk-toggleable__control sk-hidden--visually\" id=\"sk-estimator-id-2\" type=\"checkbox\" ><label for=\"sk-estimator-id-2\" class=\"sk-toggleable__label sk-toggleable__label-arrow\">TfidfVectorizer</label><div class=\"sk-toggleable__content\"><pre>TfidfVectorizer()</pre></div></div></div><div class=\"sk-item\"><div class=\"sk-estimator sk-toggleable\"><input class=\"sk-toggleable__control sk-hidden--visually\" id=\"sk-estimator-id-3\" type=\"checkbox\" ><label for=\"sk-estimator-id-3\" class=\"sk-toggleable__label sk-toggleable__label-arrow\">MultinomialNB</label><div class=\"sk-toggleable__content\"><pre>MultinomialNB()</pre></div></div></div></div></div></div></div>"
      ],
      "text/plain": [
       "Pipeline(steps=[('tfidf', TfidfVectorizer()), ('nb', MultinomialNB())])"
      ]
     },
     "execution_count": 6,
     "metadata": {},
     "output_type": "execute_result"
    }
   ],
   "source": [
    "model.fit(df[\"text\"], df[\"intent\"])"
   ]
  },
  {
   "cell_type": "markdown",
   "id": "2c43d2c1-e522-4bd2-8ca8-335d3d934a69",
   "metadata": {},
   "source": [
    "- For each mood/intent, we define a list of sample movies"
   ]
  },
  {
   "cell_type": "code",
   "execution_count": 7,
   "id": "82cb9acc-ae57-4fab-a198-8827d2da7a91",
   "metadata": {
    "tags": []
   },
   "outputs": [],
   "source": [
    "films = {\n",
    "    \"sad\": [\"The Intouchables\", \"Inside Out\", \"Soul\"],\n",
    "    \"happy\": [\"Yes Man\", \"The Mask\", \"Paddington\"],\n",
    "    \"romantic\": [\"La La Land\", \"Me Before You\", \"The Notebook\"],\n",
    "    \"excited\": [\"Inception\", \"John Wick\", \"The Dark Knight\"]\n",
    "}"
   ]
  },
  {
   "cell_type": "markdown",
   "id": "1a2e78a0-a47b-485e-bedc-7688052f95e8",
   "metadata": {},
   "source": [
    "- We define how the chatbot will respond for each intent."
   ]
  },
  {
   "cell_type": "code",
   "execution_count": 8,
   "id": "2993dd7f-281a-42f4-ab1b-984e3e6e9501",
   "metadata": {
    "tags": []
   },
   "outputs": [],
   "source": [
    "response_templates = {\n",
    "    \"sad\": \"You seem sad… Maybe these movies will lift your mood: {} 🎥\",\n",
    "    \"happy\": \"You're in a great mood! You might enjoy these movies: {} 🎬\",\n",
    "    \"romantic\": \"Feeling romantic? Maybe these movies are perfect for you: {} 💖\",\n",
    "    \"excited\": \"Feeling excited? These movies might thrill you: {} ⚡\"\n",
    "}"
   ]
  },
  {
   "cell_type": "markdown",
   "id": "6257becb-7220-444a-9e0b-8e9b881e8827",
   "metadata": {},
   "source": [
    "#### Chatbot Interaction"
   ]
  },
  {
   "cell_type": "code",
   "execution_count": 9,
   "id": "54483ee8-d7ff-40b3-9c69-deec73803bab",
   "metadata": {
    "tags": []
   },
   "outputs": [
    {
     "name": "stdout",
     "output_type": "stream",
     "text": [
      "Bot: Hello! Tell me how you feel, and I will suggest a movie. Type 'exit' to quit 🎬\n"
     ]
    },
    {
     "name": "stdin",
     "output_type": "stream",
     "text": [
      "You:  I feel sad\n"
     ]
    },
    {
     "name": "stdout",
     "output_type": "stream",
     "text": [
      "Bot: You seem sad… Maybe these movies will lift your mood: Soul, The Intouchables 🎥\n"
     ]
    },
    {
     "name": "stdin",
     "output_type": "stream",
     "text": [
      "You:  I want to watch a romantic movie\n"
     ]
    },
    {
     "name": "stdout",
     "output_type": "stream",
     "text": [
      "Bot: Feeling romantic? Maybe these movies are perfect for you: Me Before You, The Notebook 💖\n"
     ]
    },
    {
     "name": "stdin",
     "output_type": "stream",
     "text": [
      "You:  exit\n"
     ]
    },
    {
     "name": "stdout",
     "output_type": "stream",
     "text": [
      "Bot: Goodbye! 🎬\n"
     ]
    }
   ],
   "source": [
    "print(\"Bot: Hello! Tell me how you feel, and I will suggest a movie. Type 'exit' to quit 🎬\")\n",
    "\n",
    "while True:\n",
    "    user_input = input(\"You: \")\n",
    "    \n",
    "    if user_input.lower() == \"exit\":\n",
    "        print(\"Bot: Goodbye! 🎬\")\n",
    "        break\n",
    "    \n",
    "    intent = model.predict([user_input])[0]\n",
    "    \n",
    "    #Recommend movies\n",
    "    selected_movies = random.sample(films[intent], 2)\n",
    "    print(f\"Bot: {response_templates[intent].format(', '.join(selected_movies))}\")"
   ]
  },
  {
   "cell_type": "code",
   "execution_count": null,
   "id": "69c0d49a-e271-4434-95f8-0e41954c8797",
   "metadata": {},
   "outputs": [],
   "source": []
  }
 ],
 "metadata": {
  "kernelspec": {
   "display_name": "Python 3 (ipykernel)",
   "language": "python",
   "name": "python3"
  },
  "language_info": {
   "codemirror_mode": {
    "name": "ipython",
    "version": 3
   },
   "file_extension": ".py",
   "mimetype": "text/x-python",
   "name": "python",
   "nbconvert_exporter": "python",
   "pygments_lexer": "ipython3",
   "version": "3.11.3"
  }
 },
 "nbformat": 4,
 "nbformat_minor": 5
}
